{
 "cells": [
  {
   "cell_type": "code",
   "execution_count": 6,
   "metadata": {},
   "outputs": [
    {
     "ename": "LoadError",
     "evalue": "ArgumentError: Package JuMP not found in current path:\n- Run `import Pkg; Pkg.add(\"JuMP\")` to install the JuMP package.\n",
     "output_type": "error",
     "traceback": [
      "ArgumentError: Package JuMP not found in current path:\n- Run `import Pkg; Pkg.add(\"JuMP\")` to install the JuMP package.\n",
      "",
      "Stacktrace:",
      " [1] require(into::Module, mod::Symbol)",
      "   @ Base .\\loading.jl:871",
      " [2] eval",
      "   @ .\\boot.jl:360 [inlined]",
      " [3] include_string(mapexpr::typeof(REPL.softscope), mod::Module, code::String, filename::String)",
      "   @ Base .\\loading.jl:1094"
     ]
    }
   ],
   "source": [
    "using JuMP, Cbc, Distances, Distributions, CairoMakie"
   ]
  },
  {
   "cell_type": "code",
   "execution_count": 2,
   "metadata": {},
   "outputs": [
    {
     "data": {
      "text/plain": [
       "3"
      ]
     },
     "execution_count": 2,
     "metadata": {},
     "output_type": "execute_result"
    }
   ],
   "source": [
    "n_fac = 2\n",
    "n_clients_1 = 3\n",
    "n_clients_2 = 3"
   ]
  },
  {
   "cell_type": "code",
   "execution_count": 3,
   "metadata": {},
   "outputs": [],
   "source": [
    "coordinates = [\n",
    "    2 3\n",
    "    4 3\n",
    "    1 5\n",
    "    3 5\n",
    "    5 5\n",
    "    1 1\n",
    "    3 1\n",
    "    5 1\n",
    "];"
   ]
  },
  {
   "cell_type": "code",
   "execution_count": 4,
   "metadata": {},
   "outputs": [
    {
     "ename": "LoadError",
     "evalue": "UndefVarError: Euclidean not defined",
     "output_type": "error",
     "traceback": [
      "UndefVarError: Euclidean not defined",
      "",
      "Stacktrace:",
      " [1] top-level scope",
      "   @ In[4]:1",
      " [2] eval",
      "   @ .\\boot.jl:360 [inlined]",
      " [3] include_string(mapexpr::typeof(REPL.softscope), mod::Module, code::String, filename::String)",
      "   @ Base .\\loading.jl:1094"
     ]
    }
   ],
   "source": [
    "d = pairwise(Euclidean(), coordinates, dims=1);"
   ]
  },
  {
   "cell_type": "code",
   "execution_count": 5,
   "metadata": {},
   "outputs": [
    {
     "ename": "LoadError",
     "evalue": "UndefVarError: d not defined",
     "output_type": "error",
     "traceback": [
      "UndefVarError: d not defined",
      "",
      "Stacktrace:",
      " [1] top-level scope",
      "   @ .\\In[5]:1",
      " [2] eval",
      "   @ .\\boot.jl:360 [inlined]",
      " [3] include_string(mapexpr::typeof(REPL.softscope), mod::Module, code::String, filename::String)",
      "   @ Base .\\loading.jl:1094"
     ]
    }
   ],
   "source": [
    "for i in 1:size(d)[1]\n",
    "    d[i,i] = 9999999\n",
    "end"
   ]
  },
  {
   "cell_type": "code",
   "execution_count": 6,
   "metadata": {},
   "outputs": [],
   "source": [
    "q = rand(Normal(30,5), size(d)[1]);\n",
    "q[1:n_fac] .= 0;\n",
    "#[0 0 1 1 1]"
   ]
  },
  {
   "cell_type": "code",
   "execution_count": 7,
   "metadata": {},
   "outputs": [],
   "source": [
    "C = [500, 500, 500];"
   ]
  },
  {
   "cell_type": "code",
   "execution_count": 8,
   "metadata": {},
   "outputs": [
    {
     "data": {
      "text/plain": [
       "1"
      ]
     },
     "execution_count": 8,
     "metadata": {},
     "output_type": "execute_result"
    }
   ],
   "source": [
    "K = 1"
   ]
  },
  {
   "cell_type": "code",
   "execution_count": 9,
   "metadata": {},
   "outputs": [
    {
     "data": {
      "text/plain": [
       "LRP (generic function with 1 method)"
      ]
     },
     "execution_count": 9,
     "metadata": {},
     "output_type": "execute_result"
    }
   ],
   "source": [
    "function LRP(d, q, C)\n",
    "    m = Model(Cbc.Optimizer)\n",
    "    @variable(m, y[i in 1:n_fac], Bin)\n",
    "    @variable(m, x[i in 1:n_fac+n_clients_1, j in 1:n_fac+n_clients_1, k in 1:K], Bin)\n",
    "    @variable(m, w[i in 1:n_fac+n_clients_2, j in 1:n_fac+n_clients_2, k in 1:K], Bin)\n",
    "    \n",
    "    @objective(m, Min, \n",
    "        sum(y) + \n",
    "        sum(d[i,j] * sum(x[i,j,k] for k in 1:K) for i in 1:n_fac+n_clients_1, j in 1:n_fac+n_clients_1)+\n",
    "        sum(d[i,j] * sum(w[i,j,k] for k in 1:K) for i in 1:n_fac+n_clients_2, j in 1:n_fac+n_clients_2)\n",
    "    )\n",
    "    \n",
    "    \n",
    "    #Level 1 constraints\n",
    "    @constraint(m, [i in 1:n_fac+n_clients_1, k in 1:K], sum(x[i,j,k] for j in 1:n_fac+n_clients_1) == 1)\n",
    "    @constraint(m, [i in 1:n_fac, j in 1:n_fac, k in 1:K], x[i,j,k] == 0)\n",
    "    @constraint(m, [i in 1:n_fac+n_clients_1, k in 1:K], \n",
    "        sum(x[i,j,k] for j in 1:n_fac+n_clients_1) - sum(x[j,i,k] for j in 1:n_fac+n_clients_1) == 0)\n",
    "    @constraint(m, [i in n_fac+1:n_clients_1, k in 1:K], q[i] * sum(x[i,j,k] for j in 1:n_fac+n_clients_1) <= C[k])\n",
    "    \n",
    "    @constraint(m, [i in 1:n_fac, k in 1:K], \n",
    "        sum(x[i,1:n_fac+n_clients_1,k]) + sum(x[1:n_fac+n_clients_1,i,k]) - y[i] <= 1)\n",
    "    \n",
    "    #Level 2 constraints\n",
    "    @constraint(m, [i in 1:n_fac+n_clients_2, k in 1:K], sum(w[i,j,k] for j in 1:n_fac+n_clients_2) == 1)\n",
    "    @constraint(m, [i in 1:n_fac, j in 1:n_fac, k in 1:K], w[i,j,k] == 0)\n",
    "    @constraint(m, [i in 1:n_fac+n_clients_2, k in 1:K], \n",
    "        sum(w[i,j,k] for j in 1:n_fac+n_clients_2) - sum(w[j,i,k] for j in 1:n_fac+n_clients_2) == 0)\n",
    "    @constraint(m, [i in n_fac+1:n_clients_2, k in 1:K], q[i] * sum(w[i,j,k] for j in 1:n_fac+n_clients_2) <= C[k])\n",
    "    \n",
    "    @constraint(m, [i in 1:n_fac, k in 1:K], \n",
    "        sum(w[i,1:n_fac+n_clients_2,k]) + sum(w[1:n_fac+n_clients_2,i,k]) - y[i] <= 1)\n",
    "    \n",
    "    optimize!(m)\n",
    "    \n",
    "    x_sol = JuMP.value.(x)\n",
    "    w_sol = JuMP.value.(w)\n",
    "    y_sol = JuMP.value.(y)\n",
    "    \n",
    "    return x_sol, w_sol, y_sol\n",
    "    \n",
    "end"
   ]
  },
  {
   "cell_type": "code",
   "execution_count": 10,
   "metadata": {},
   "outputs": [
    {
     "name": "stdout",
     "output_type": "stream",
     "text": [
      "Welcome to the CBC MILP Solver \n",
      "Version: 2.10.3 \n",
      "Build Date: Nov  9 2020 \n",
      "\n",
      "command line - Cbc_C_Interface -solve -quit (default strategy 1)\n",
      "Continuous objective value is 23.8885 - 0.00 seconds\n",
      "Cgl0002I 8 variables fixed\n",
      "Cgl0004I processed model has 24 rows, 44 columns (44 integer (44 of which binary)) and 142 elements\n",
      "Cbc0012I Integer solution of 23.888544 found by DiveCoefficient after 0 iterations and 0 nodes (0.00 seconds)\n",
      "Cbc0001I Search completed - best objective 23.88854381999832, took 0 iterations and 0 nodes (0.00 seconds)\n",
      "Cbc0035I Maximum depth 0, 0 variables fixed on reduced cost\n",
      "Cuts at root node changed objective from 23.8885 to 23.8885\n",
      "Probing was tried 0 times and created 0 cuts of which 0 were active after adding rounds of cuts (0.000 seconds)\n",
      "Gomory was tried 0 times and created 0 cuts of which 0 were active after adding rounds of cuts (0.000 seconds)\n",
      "Knapsack was tried 0 times and created 0 cuts of which 0 were active after adding rounds of cuts (0.000 seconds)\n",
      "Clique was tried 0 times and created 0 cuts of which 0 were active after adding rounds of cuts (0.000 seconds)\n",
      "MixedIntegerRounding2 was tried 0 times and created 0 cuts of which 0 were active after adding rounds of cuts (0.000 seconds)\n",
      "FlowCover was tried 0 times and created 0 cuts of which 0 were active after adding rounds of cuts (0.000 seconds)\n",
      "TwoMirCuts was tried 0 times and created 0 cuts of which 0 were active after adding rounds of cuts (0.000 seconds)\n",
      "ZeroHalf was tried 0 times and created 0 cuts of which 0 were active after adding rounds of cuts (0.000 seconds)\n",
      "\n",
      "Result - Optimal solution found\n",
      "\n",
      "Objective value:                23.88854382\n",
      "Enumerated nodes:               0\n",
      "Total iterations:               0\n",
      "Time (CPU seconds):             0.01\n",
      "Time (Wallclock seconds):       0.00\n",
      "\n",
      "Total time (CPU seconds):       0.01   (Wallclock seconds):       0.00\n",
      "\n"
     ]
    }
   ],
   "source": [
    "x_sol, w_sol, y_sol = LRP(d,q,C);"
   ]
  },
  {
   "cell_type": "code",
   "execution_count": 11,
   "metadata": {},
   "outputs": [
    {
     "data": {
      "text/plain": [
       "selected_edges (generic function with 1 method)"
      ]
     },
     "execution_count": 11,
     "metadata": {},
     "output_type": "execute_result"
    }
   ],
   "source": [
    "function selected_edges(x::Array{Float64}, n)\n",
    "    return Tuple{Int,Int}[(j,i) for i in 1:n, j in 1:n if x[i, j] > 0.5]\n",
    "end"
   ]
  },
  {
   "cell_type": "code",
   "execution_count": 12,
   "metadata": {},
   "outputs": [
    {
     "data": {
      "text/plain": [
       "trace_route (generic function with 1 method)"
      ]
     },
     "execution_count": 12,
     "metadata": {},
     "output_type": "execute_result"
    }
   ],
   "source": [
    "function trace_route(edges, coordinates, tier)\n",
    "    \n",
    "    if tier == 1 \n",
    "        x = hcat([coordinates[i,:] for (i,j) in edges]...)'\n",
    "        y = hcat([coordinates[j,:] for (i,j) in edges]...)'\n",
    "    else\n",
    "        x = hcat([i <= n_fac ? coordinates[i,:] : coordinates[i+n_clients_1,:] for (i,j) in edges]...)'\n",
    "        y = hcat([j <= n_fac ? coordinates[j,:] : coordinates[j+n_clients_1,:] for (i,j) in edges]...)'\n",
    "    end\n",
    "    \n",
    "    x,y\n",
    "end"
   ]
  },
  {
   "cell_type": "code",
   "execution_count": 13,
   "metadata": {},
   "outputs": [],
   "source": [
    "edges_1 = selected_edges(x_sol, size(x_sol, 1));\n",
    "edges_2 = selected_edges(w_sol, size(w_sol, 1));"
   ]
  },
  {
   "cell_type": "code",
   "execution_count": 14,
   "metadata": {},
   "outputs": [],
   "source": [
    "route_x_1, route_y_1 = trace_route(edges_1, coordinates, 1);\n",
    "route_x_2, route_y_2 = trace_route(edges_2, coordinates, 2);"
   ]
  },
  {
   "cell_type": "code",
   "execution_count": 15,
   "metadata": {
    "scrolled": true
   },
   "outputs": [
    {
     "data": {
      "image/png": "[encoded data removed]",
      "text/plain": [
       "Figure()"
      ]
     },
     "execution_count": 15,
     "metadata": {},
     "output_type": "execute_result"
    }
   ],
   "source": [
    "CairoMakie.scatter(coordinates)\n",
    "\n",
    "for i in 1:n_fac+n_clients_1\n",
    "    lines!([route_x_1[i,1], route_y_1[i,1]], [route_x_1[i,2], route_y_1[i,2]], color = :blue)\n",
    "end\n",
    "\n",
    "for i in 1:n_fac+n_clients_2\n",
    "    lines!([route_x_2[i,1], route_y_2[i,1]], [route_x_2[i,2], route_y_2[i,2]], color = :red)\n",
    "end\n",
    "\n",
    "current_figure()"
   ]
  },
  {
   "cell_type": "code",
   "execution_count": null,
   "metadata": {},
   "outputs": [],
   "source": []
  }
 ],
 "metadata": {
  "kernelspec": {
   "display_name": "Julia 1.6.0",
   "language": "julia",
   "name": "julia-1.6"
  },
  "language_info": {
   "file_extension": ".jl",
   "mimetype": "application/julia",
   "name": "julia",
   "version": "1.6.0"
  }
 },
 "nbformat": 4,
 "nbformat_minor": 2
}

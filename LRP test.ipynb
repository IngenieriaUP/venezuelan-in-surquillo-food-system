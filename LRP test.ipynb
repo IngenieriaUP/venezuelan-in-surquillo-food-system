{
 "cells": [
  {
   "cell_type": "code",
   "execution_count": 1,
   "metadata": {
    "scrolled": true
   },
   "outputs": [],
   "source": [
    "#Install libraries\n",
    "#import Pkg; Pkg.add(\"JuMP\")\n",
    "#import Pkg; Pkg.add(\"Cbc\")\n",
    "#import Pkg; Pkg.add(\"Distances\")\n",
    "#import Pkg; Pkg.add(\"CairoMakie\")"
   ]
  },
  {
   "cell_type": "code",
   "execution_count": 3,
   "metadata": {},
   "outputs": [],
   "source": [
    "using JuMP, Cbc, Distances, Distributions, CairoMakie"
   ]
  },
  {
   "cell_type": "markdown",
   "metadata": {},
   "source": [
    "- JuMP: domain-specific modeling language for mathematical optimization embedded in Julia.\n",
    "\n",
    "- Distances: a Julia package for evaluating distances(metrics) between vectors.\n",
    "\n",
    "- Distributions: package provides a large collection of probabilistic distributions and related functions.\n",
    "\n",
    "- CairoMakie: data visualization"
   ]
  },
  {
   "cell_type": "code",
   "execution_count": 4,
   "metadata": {},
   "outputs": [
    {
     "data": {
      "text/plain": [
       "4"
      ]
     },
     "execution_count": 4,
     "metadata": {},
     "output_type": "execute_result"
    }
   ],
   "source": [
    "n_fac = 3\n",
    "n_clients_1 = 4 #mercados\n",
    "n_clients_2 = 4 #encuestados"
   ]
  },
  {
   "cell_type": "code",
   "execution_count": 5,
   "metadata": {},
   "outputs": [],
   "source": [
    "coordinates = [\n",
    "    -77.0125057 -12.1082707\n",
    "    -77.0009741 -12.1135569\n",
    "    -77.0235178 -12.1075984\n",
    "    \n",
    "    -77.025807 -12.118365\n",
    "    -77.024108 -12.110307\n",
    "    -77.010427 -12.108666\n",
    "    -77.016581 -12.11665\n",
    "    \n",
    "    -77.0214718 -12.1187303\n",
    "    -77.0176426 -12.1161587\n",
    "    -77.0118733 -12.1126066\n",
    "    -77.0101258 -12.1086169\n",
    "   \n",
    "];\n",
    "#facilities, 1t, 2t"
   ]
  },
  {
   "cell_type": "code",
   "execution_count": 6,
   "metadata": {},
   "outputs": [],
   "source": [
    "d = pairwise(Euclidean(), coordinates, dims=1);"
   ]
  },
  {
   "cell_type": "code",
   "execution_count": 175,
   "metadata": {},
   "outputs": [],
   "source": [
    "#no se genera la diagonal\n",
    "for i in 1:size(d)[1]\n",
    "    d[i,i] = 9999999\n",
    "end"
   ]
  },
  {
   "cell_type": "code",
   "execution_count": 176,
   "metadata": {},
   "outputs": [],
   "source": [
    "#demanda (distribucion normal)\n",
    "q = rand(Normal(30,5), size(d)[1]);\n",
    "q[1:n_fac] .= 0;\n",
    "#[0 0 1 1 1]"
   ]
  },
  {
   "cell_type": "code",
   "execution_count": 177,
   "metadata": {},
   "outputs": [],
   "source": [
    "C = [500, 500, 500];\n",
    "#capacidades de vehiculos"
   ]
  },
  {
   "cell_type": "code",
   "execution_count": 178,
   "metadata": {},
   "outputs": [
    {
     "data": {
      "text/plain": [
       "1"
      ]
     },
     "execution_count": 178,
     "metadata": {},
     "output_type": "execute_result"
    }
   ],
   "source": [
    "K = 1\n",
    "#numero de vehiculos"
   ]
  },
  {
   "cell_type": "code",
   "execution_count": 152,
   "metadata": {},
   "outputs": [
    {
     "data": {
      "text/plain": [
       "LRP (generic function with 1 method)"
      ]
     },
     "execution_count": 152,
     "metadata": {},
     "output_type": "execute_result"
    }
   ],
   "source": [
    "function LRP(d, q, C)\n",
    "    \n",
    "    m = Model(Cbc.Optimizer)\n",
    "    #si se activa el m\n",
    "    @variable(m, y[i in 1:n_fac], Bin)\n",
    "    @variable(m, x[i in 1:n_fac+n_clients_1, j in 1:n_fac+n_clients_1, k in 1:K], Bin)\n",
    "    @variable(m, w[i in 1:n_fac+n_clients_2, j in 1:n_fac+n_clients_2, k in 1:K], Bin)\n",
    "    \n",
    "    @objective(m, Min, \n",
    "        sum(y) + \n",
    "        sum(d[i,j] * sum(x[i,j,k] for k in 1:K) for i in 1:n_fac+n_clients_1, j in 1:n_fac+n_clients_1)+\n",
    "        sum(d[i,j] * sum(w[i,j,k] for k in 1:K) for i in 1:n_fac+n_clients_2, j in 1:n_fac+n_clients_2)\n",
    "    )\n",
    "    \n",
    "    \n",
    "    #Level 1 constraints\n",
    "    #[] for\n",
    "    @constraint(m, [i in 1:n_fac+n_clients_1, k in 1:K], sum(x[i,j,k] for j in 1:n_fac+n_clients_1) == 1)\n",
    "    @constraint(m, [i in 1:n_fac, j in 1:n_fac, k in 1:K], x[i,j,k] == 0)\n",
    "    @constraint(m, [i in 1:n_fac+n_clients_1, k in 1:K], \n",
    "        sum(x[i,j,k] for j in 1:n_fac+n_clients_1) - sum(x[j,i,k] for j in 1:n_fac+n_clients_1) == 0)\n",
    "    @constraint(m, [i in n_fac+1:n_clients_1, k in 1:K], q[i] * sum(x[i,j,k] for j in 1:n_fac+n_clients_1) <= C[k])\n",
    "    \n",
    "    @constraint(m, [i in 1:n_fac, k in 1:K], \n",
    "        sum(x[i,1:n_fac+n_clients_1,k]) + sum(x[1:n_fac+n_clients_1,i,k]) - y[i] <= 1)\n",
    "    \n",
    "    #Level 2 constraints\n",
    "    @constraint(m, [i in 1:n_fac+n_clients_2, k in 1:K], sum(w[i,j,k] for j in 1:n_fac+n_clients_2) == 1)\n",
    "    @constraint(m, [i in 1:n_fac, j in 1:n_fac, k in 1:K], w[i,j,k] == 0)\n",
    "    @constraint(m, [i in 1:n_fac+n_clients_2, k in 1:K], \n",
    "        sum(w[i,j,k] for j in 1:n_fac+n_clients_2) - sum(w[j,i,k] for j in 1:n_fac+n_clients_2) == 0)\n",
    "    @constraint(m, [i in n_fac+1:n_clients_2, k in 1:K], q[i] * sum(w[i,j,k] for j in 1:n_fac+n_clients_2) <= C[k])\n",
    "    \n",
    "    @constraint(m, [i in 1:n_fac, k in 1:K], \n",
    "        sum(w[i,1:n_fac+n_clients_2,k]) + sum(w[1:n_fac+n_clients_2,i,k]) - y[i] <= 1)\n",
    "    \n",
    "    #optimizar \n",
    "    optimize!(m)\n",
    "    #solver\n",
    "    x_sol = JuMP.value.(x) #recupera toda la matriz x\n",
    "    w_sol = JuMP.value.(w)\n",
    "    y_sol = JuMP.value.(y)\n",
    "    \n",
    "    return x_sol, w_sol, y_sol\n",
    "    \n",
    "end"
   ]
  },
  {
   "cell_type": "code",
   "execution_count": 2,
   "metadata": {},
   "outputs": [
    {
     "ename": "LoadError",
     "evalue": "UndefVarError: LRP not defined",
     "output_type": "error",
     "traceback": [
      "UndefVarError: LRP not defined",
      "",
      "Stacktrace:",
      " [1] top-level scope",
      "   @ In[2]:1",
      " [2] eval",
      "   @ .\\boot.jl:360 [inlined]",
      " [3] include_string(mapexpr::typeof(REPL.softscope), mod::Module, code::String, filename::String)",
      "   @ Base .\\loading.jl:1094"
     ]
    }
   ],
   "source": [
    "x_sol, w_sol, y_sol = LRP(d,q,C);"
   ]
  },
  {
   "cell_type": "code",
   "execution_count": 180,
   "metadata": {},
   "outputs": [
    {
     "data": {
      "text/plain": [
       "selected_edges (generic function with 1 method)"
      ]
     },
     "execution_count": 180,
     "metadata": {},
     "output_type": "execute_result"
    }
   ],
   "source": [
    "#parejas de donde sales a donde vas\n",
    "function selected_edges(x::Array{Float64}, n)\n",
    "    return Tuple{Int,Int}[(j,i) for i in 1:n, j in 1:n if x[i, j] > 0.5]\n",
    "end"
   ]
  },
  {
   "cell_type": "code",
   "execution_count": 181,
   "metadata": {},
   "outputs": [
    {
     "data": {
      "text/plain": [
       "trace_route (generic function with 1 method)"
      ]
     },
     "execution_count": 181,
     "metadata": {},
     "output_type": "execute_result"
    }
   ],
   "source": [
    "#trazas reales de la matriz de distancia\n",
    "function trace_route(edges, coordinates, tier)\n",
    "    \n",
    "    if tier == 1 \n",
    "        x = hcat([coordinates[i,:] for (i,j) in edges]...)'\n",
    "        y = hcat([coordinates[j,:] for (i,j) in edges]...)'\n",
    "    else\n",
    "        x = hcat([i <= n_fac ? coordinates[i,:] : coordinates[i+n_clients_1,:] for (i,j) in edges]...)'\n",
    "        y = hcat([j <= n_fac ? coordinates[j,:] : coordinates[j+n_clients_1,:] for (i,j) in edges]...)'\n",
    "    end\n",
    "    \n",
    "    x,y\n",
    "end"
   ]
  },
  {
   "cell_type": "code",
   "execution_count": 182,
   "metadata": {},
   "outputs": [],
   "source": [
    "edges_1 = selected_edges(x_sol, size(x_sol, 1));\n",
    "edges_2 = selected_edges(w_sol, size(w_sol, 1));"
   ]
  },
  {
   "cell_type": "code",
   "execution_count": 183,
   "metadata": {},
   "outputs": [],
   "source": [
    "route_x_1, route_y_1 = trace_route(edges_1, coordinates, 1);\n",
    "route_x_2, route_y_2 = trace_route(edges_2, coordinates, 2);"
   ]
  },
  {
   "cell_type": "code",
   "execution_count": 191,
   "metadata": {
    "scrolled": true
   },
   "outputs": [
    {
     "data": {
      "image/png": "[encoded data removed]",
      "text/plain": [
       "Figure()"
      ]
     },
     "execution_count": 191,
     "metadata": {},
     "output_type": "execute_result"
    }
   ],
   "source": [
    "CairoMakie.scatter(coordinates)\n",
    "\n",
    "for i in 1:n_fac+n_clients_1\n",
    "    scatterlines!([route_x_1[i,1], route_y_1[i,1]], [route_x_1[i,2], route_y_1[i,2]], color = :blue, markersize=20, marker=:diamond)\n",
    "end\n",
    "\n",
    "for i in 1:n_fac+n_clients_2\n",
    "    scatterlines!([route_x_2[i,1], route_y_2[i,1]], [route_x_2[i,2], route_y_2[i,2]], color = :red, markersize=15, marker=:circle)\n",
    "end\n",
    "\n",
    "current_figure()"
   ]
  },
  {
   "cell_type": "code",
   "execution_count": null,
   "metadata": {},
   "outputs": [],
   "source": []
  }
 ],
 "metadata": {
  "kernelspec": {
   "display_name": "Julia 1.6.0",
   "language": "julia",
   "name": "julia-1.6"
  },
  "language_info": {
   "file_extension": ".jl",
   "mimetype": "application/julia",
   "name": "julia",
   "version": "1.6.0"
  }
 },
 "nbformat": 4,
 "nbformat_minor": 2
}
